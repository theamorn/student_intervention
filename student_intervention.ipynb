{
 "cells": [
  {
   "cell_type": "markdown",
   "metadata": {},
   "source": [
    "# Project 2: Supervised Learning\n",
    "### Building a Student Intervention System"
   ]
  },
  {
   "cell_type": "markdown",
   "metadata": {},
   "source": [
    "## 1. Classification vs Regression\n",
    "\n",
    "Your goal is to identify students who might need early intervention - which type of supervised machine learning problem is this, classification or regression? Why?\n",
    "\n",
    "Classification. because classification is the concretely answer which is the answer is just yes or no. While regression answer will be the continuous number so student who might need early intervention in this supervised learning will be just \"yes, he need early intervention\" or \"no, he don't need\""
   ]
  },
  {
   "cell_type": "markdown",
   "metadata": {},
   "source": [
    "## 2. Exploring the Data\n",
    "\n",
    "Let's go ahead and read in the student dataset first.\n",
    "\n",
    "_To execute a code cell, click inside it and press **Shift+Enter**._"
   ]
  },
  {
   "cell_type": "code",
   "execution_count": 5,
   "metadata": {
    "collapsed": false
   },
   "outputs": [],
   "source": [
    "# Import libraries\n",
    "import numpy as np\n",
    "import pandas as pd\n",
    "from sklearn.metrics import f1_score"
   ]
  },
  {
   "cell_type": "code",
   "execution_count": 6,
   "metadata": {
    "collapsed": false
   },
   "outputs": [
    {
     "name": "stdout",
     "output_type": "stream",
     "text": [
      "Student data read successfully!\n"
     ]
    }
   ],
   "source": [
    "# Read student data\n",
    "student_data = pd.read_csv(\"student-data.csv\")\n",
    "print \"Student data read successfully!\"\n",
    "# Note: The last column 'passed' is the target/label, all other are feature columns"
   ]
  },
  {
   "cell_type": "markdown",
   "metadata": {},
   "source": [
    "Now, can you find out the following facts about the dataset?\n",
    "- Total number of students\n",
    "- Number of students who passed\n",
    "- Number of students who failed\n",
    "- Graduation rate of the class (%)\n",
    "- Number of features\n",
    "\n",
    "_Use the code block below to compute these values. Instructions/steps are marked using **TODO**s._"
   ]
  },
  {
   "cell_type": "code",
   "execution_count": 7,
   "metadata": {
    "collapsed": false
   },
   "outputs": [
    {
     "name": "stdout",
     "output_type": "stream",
     "text": [
      "Total number of students: 395\n",
      "Number of students who passed: 265\n",
      "Number of students who failed: 130\n",
      "Number of features: 30\n",
      "Graduation rate of the class: 67.09%\n",
      "\n",
      "F1 score for all 'yes' on students: 0.8030\n"
     ]
    }
   ],
   "source": [
    "# TODO: Compute desired values - replace each '?' with an appropriate expression/function call\n",
    "n_students = student_data.shape[0]\n",
    "n_features = student_data.shape[1]-1\n",
    "n_passed = student_data[student_data['passed'] == 'yes'].shape[0]\n",
    "n_failed = student_data[student_data['passed'] == 'no'].shape[0]\n",
    "grad_rate = float(n_passed)/float(n_students)*100\n",
    "print \"Total number of students: {}\".format(n_students)\n",
    "print \"Number of students who passed: {}\".format(n_passed)\n",
    "print \"Number of students who failed: {}\".format(n_failed)\n",
    "print \"Number of features: {}\".format(n_features)\n",
    "print \"Graduation rate of the class: {:.2f}%\".format(grad_rate)\n",
    "print \"\\nF1 score for all 'yes' on students: {:.4f}\".format(\n",
    "    f1_score(y_true = ['yes']*n_passed + ['no']*n_failed, y_pred = ['yes']*n_students, \n",
    "             pos_label='yes', average='binary'))"
   ]
  },
  {
   "cell_type": "markdown",
   "metadata": {},
   "source": [
    "## 3. Preparing the Data\n",
    "In this section, we will prepare the data for modeling, training and testing.\n",
    "\n",
    "### Identify feature and target columns\n",
    "It is often the case that the data you obtain contains non-numeric features. This can be a problem, as most machine learning algorithms expect numeric data to perform computations with.\n",
    "\n",
    "Let's first separate our data into feature and target columns, and see if any features are non-numeric.<br/>\n",
    "**Note**: For this dataset, the last column (`'passed'`) is the target or label we are trying to predict."
   ]
  },
  {
   "cell_type": "code",
   "execution_count": 8,
   "metadata": {
    "collapsed": false
   },
   "outputs": [
    {
     "name": "stdout",
     "output_type": "stream",
     "text": [
      "Feature column(s):-\n",
      "['school', 'sex', 'age', 'address', 'famsize', 'Pstatus', 'Medu', 'Fedu', 'Mjob', 'Fjob', 'reason', 'guardian', 'traveltime', 'studytime', 'failures', 'schoolsup', 'famsup', 'paid', 'activities', 'nursery', 'higher', 'internet', 'romantic', 'famrel', 'freetime', 'goout', 'Dalc', 'Walc', 'health', 'absences']\n",
      "Target column: passed\n",
      "\n",
      "Feature values:-\n",
      "  school sex  age address famsize Pstatus  Medu  Fedu     Mjob      Fjob  \\\n",
      "0     GP   F   18       U     GT3       A     4     4  at_home   teacher   \n",
      "1     GP   F   17       U     GT3       T     1     1  at_home     other   \n",
      "2     GP   F   15       U     LE3       T     1     1  at_home     other   \n",
      "3     GP   F   15       U     GT3       T     4     2   health  services   \n",
      "4     GP   F   16       U     GT3       T     3     3    other     other   \n",
      "\n",
      "    ...    higher internet  romantic  famrel  freetime goout Dalc Walc health  \\\n",
      "0   ...       yes       no        no       4         3     4    1    1      3   \n",
      "1   ...       yes      yes        no       5         3     3    1    1      3   \n",
      "2   ...       yes      yes        no       4         3     2    2    3      3   \n",
      "3   ...       yes      yes       yes       3         2     2    1    1      5   \n",
      "4   ...       yes       no        no       4         3     2    1    2      5   \n",
      "\n",
      "  absences  \n",
      "0        6  \n",
      "1        4  \n",
      "2       10  \n",
      "3        2  \n",
      "4        4  \n",
      "\n",
      "[5 rows x 30 columns]\n"
     ]
    }
   ],
   "source": [
    "# Extract feature (X) and target (y) columns\n",
    "feature_cols = list(student_data.columns[:-1])  # all columns but last are features\n",
    "target_col = student_data.columns[-1]  # last column is the target/label\n",
    "print \"Feature column(s):-\\n{}\".format(feature_cols)\n",
    "print \"Target column: {}\".format(target_col)\n",
    "\n",
    "X_all = student_data[feature_cols]  # feature values for all students\n",
    "y_all = student_data[target_col]  # corresponding targets/labels\n",
    "print \"\\nFeature values:-\"\n",
    "print X_all.head()  # print the first 5 rows"
   ]
  },
  {
   "cell_type": "markdown",
   "metadata": {},
   "source": [
    "### Preprocess feature columns\n",
    "\n",
    "As you can see, there are several non-numeric columns that need to be converted! Many of them are simply `yes`/`no`, e.g. `internet`. These can be reasonably converted into `1`/`0` (binary) values.\n",
    "\n",
    "Other columns, like `Mjob` and `Fjob`, have more than two values, and are known as _categorical variables_. The recommended way to handle such a column is to create as many columns as possible values (e.g. `Fjob_teacher`, `Fjob_other`, `Fjob_services`, etc.), and assign a `1` to one of them and `0` to all others.\n",
    "\n",
    "These generated columns are sometimes called _dummy variables_, and we will use the [`pandas.get_dummies()`](http://pandas.pydata.org/pandas-docs/stable/generated/pandas.get_dummies.html?highlight=get_dummies#pandas.get_dummies) function to perform this transformation."
   ]
  },
  {
   "cell_type": "code",
   "execution_count": 9,
   "metadata": {
    "collapsed": false
   },
   "outputs": [
    {
     "name": "stdout",
     "output_type": "stream",
     "text": [
      "Processed feature columns (48):-\n",
      "['school_GP', 'school_MS', 'sex_F', 'sex_M', 'age', 'address_R', 'address_U', 'famsize_GT3', 'famsize_LE3', 'Pstatus_A', 'Pstatus_T', 'Medu', 'Fedu', 'Mjob_at_home', 'Mjob_health', 'Mjob_other', 'Mjob_services', 'Mjob_teacher', 'Fjob_at_home', 'Fjob_health', 'Fjob_other', 'Fjob_services', 'Fjob_teacher', 'reason_course', 'reason_home', 'reason_other', 'reason_reputation', 'guardian_father', 'guardian_mother', 'guardian_other', 'traveltime', 'studytime', 'failures', 'schoolsup', 'famsup', 'paid', 'activities', 'nursery', 'higher', 'internet', 'romantic', 'famrel', 'freetime', 'goout', 'Dalc', 'Walc', 'health', 'absences']\n"
     ]
    }
   ],
   "source": [
    "# Preprocess feature columns\n",
    "def preprocess_features(X):\n",
    "    outX = pd.DataFrame(index=X.index)  # output dataframe, initially empty\n",
    "\n",
    "    # Check each column\n",
    "    for col, col_data in X.iteritems():\n",
    "        # If data type is non-numeric, try to replace all yes/no values with 1/0\n",
    "        if col_data.dtype == object:\n",
    "            col_data = col_data.replace(['yes', 'no'], [1, 0])\n",
    "        # Note: This should change the data type for yes/no columns to int\n",
    "\n",
    "        # If still non-numeric, convert to one or more dummy variables\n",
    "        if col_data.dtype == object:\n",
    "            col_data = pd.get_dummies(col_data, prefix=col)  # e.g. 'school' => 'school_GP', 'school_MS'\n",
    "\n",
    "        outX = outX.join(col_data)  # collect column(s) in output dataframe\n",
    "\n",
    "    return outX\n",
    "\n",
    "X_all = preprocess_features(X_all)\n",
    "print \"Processed feature columns ({}):-\\n{}\".format(len(X_all.columns), list(X_all.columns))"
   ]
  },
  {
   "cell_type": "markdown",
   "metadata": {},
   "source": [
    "### Split data into training and test sets\n",
    "\n",
    "So far, we have converted all _categorical_ features into numeric values. In this next step, we split the data (both features and corresponding labels) into training and test sets."
   ]
  },
  {
   "cell_type": "code",
   "execution_count": 11,
   "metadata": {
    "collapsed": false
   },
   "outputs": [
    {
     "name": "stdout",
     "output_type": "stream",
     "text": [
      "Training set: 300 samples\n",
      "Test set: 95 samples\n",
      "Grad rate of the training set: 68.33%\n",
      "Grad rate of the testing set: 63.16%\n"
     ]
    }
   ],
   "source": [
    "# First, decide how many training vs test samples you want\n",
    "num_all = student_data.shape[0]  # same as len(student_data)\n",
    "num_train = 300  # about 75% of the data\n",
    "num_test = num_all - num_train\n",
    "\n",
    "y = student_data['passed']\n",
    "# TODO: Then, select features (X) and corresponding labels (y) for the training and test sets\n",
    "# Note: Shuffle the data or randomly select samples to avoid any bias due to ordering in the dataset\n",
    "from sklearn.cross_validation import train_test_split\n",
    "X_train, X_test, y_train, y_test = train_test_split(X_all, y_all, test_size=num_test, random_state=42)\n",
    "\n",
    "#X_train = ?\n",
    "#y_train = ?\n",
    "#X_test = ?\n",
    "#y_test = ?\n",
    "print \"Training set: {} samples\".format(X_train.shape[0])\n",
    "print \"Test set: {} samples\".format(X_test.shape[0])\n",
    "print \"Grad rate of the training set: {:.2f}%\".format(100 * (y_train == 'yes').mean())\n",
    "print \"Grad rate of the testing set: {:.2f}%\".format(100 * (y_test == 'yes').mean())\n",
    "# Note: If you need a validation set, extract it from within training data"
   ]
  },
  {
   "cell_type": "markdown",
   "metadata": {},
   "source": [
    "## 4. Training and Evaluating Models\n",
    "Choose 3 supervised learning models that are available in scikit-learn, and appropriate for this problem. For each model:\n",
    "#### I choose Decision Tree, Naive Bayes, and SVM of 3 supervised learning models\n",
    "\n",
    "- What is the theoretical O(n) time & space complexity in terms of input size?\n",
    "##### Decision Tree is O(mn . (log n) ),  Naive Bayes is O(N),  SVM is O(N power 2)\n",
    "- What are the general applications of this model? What are its strengths and weaknesses?\n",
    "### Decision Tree \n",
    "#### Generation application\n",
    "- Decision trees are normally used in operations research and operations management where the calculation is not too complex\n",
    "\n",
    "#### Strengths\n",
    "- white box model which can observer the model explanation by each step, easy to see what's going on behind the scene\n",
    "- perform well with large datasets because of how fast while you could use just standard computing resources\n",
    "- simple to understand\n",
    "\n",
    "#### Weaknesses\n",
    "- might get into local minimum but not global minimum\n",
    "- too long time to train complexity data when compare to other algorithm\n",
    "\n",
    "### Naive Bayes\n",
    "#### Generation application\n",
    "- used for solving spam filtering, facial recognize, and segmentation each items into label categories\n",
    "\n",
    "#### Strengths\n",
    "- Naive Bayes models are fast and easy to train, and are fast to perform predictions.\n",
    "- perform well with large datasets because of how fast while you could use just standard computing resources\n",
    "- simple to understand\n",
    "\n",
    "#### Weaknesses\n",
    "- might get into local minimum but not global minimum\n",
    "- too long time to train complexity data when compare to other algorithm\n",
    "\n",
    "### Support Vector Machine\n",
    "### Generation application\n",
    "- text classification, data classification, face recognition \n",
    "\n",
    "#### Strengths\n",
    "- 100 % reaching Global minimum \n",
    "- Memory Efficient\n",
    "- effective when they have high dimension space \n",
    "\n",
    "#### Weaknesses\n",
    "- Not good for Big Data because consume too much time to train\n",
    "- perform not well if data has more noise or doesn't have clear seperation\n",
    "\n",
    "###########\n",
    "- Given what you know about the data so far, why did you choose this model to apply?\n",
    "###### I picked 3 model which is Decision Tree, Naive Bayes, and SVM. Other that I didn't pick in this model is Neural Network and Boosting because those 2 later it's fit more for complex data like image processing.\n",
    "- Fit this model to the training data, try to predict labels (for both training and test sets), and measure the F<sub>1</sub> score. Repeat this process with different training set sizes (100, 200, 300), keeping test set constant.\n",
    "\n",
    "Produce a table showing training time, prediction time, F<sub>1</sub> score on training set and F<sub>1</sub> score on test set, for each training set size.\n",
    "\n",
    "Note: You need to produce 3 such tables - one for each model."
   ]
  },
  {
   "cell_type": "code",
   "execution_count": 14,
   "metadata": {
    "collapsed": false
   },
   "outputs": [
    {
     "name": "stdout",
     "output_type": "stream",
     "text": [
      "Training DecisionTreeClassifier...\n",
      "Done!\n",
      "Training time (secs): 0.058\n",
      "DecisionTreeClassifier(class_weight=None, criterion='gini', max_depth=None,\n",
      "            max_features=None, max_leaf_nodes=None, min_samples_leaf=1,\n",
      "            min_samples_split=2, min_weight_fraction_leaf=0.0,\n",
      "            presort=False, random_state=5, splitter='best')\n"
     ]
    }
   ],
   "source": [
    "# Train a model\n",
    "import time\n",
    "\n",
    "def train_classifier(clf, X_train, y_train):\n",
    "    print \"Training {}...\".format(clf.__class__.__name__)\n",
    "    start = time.time()\n",
    "    clf.fit(X_train, y_train)\n",
    "    end = time.time()\n",
    "    print \"Done!\\nTraining time (secs): {:.3f}\".format(end - start)\n",
    "\n",
    "# TODO: Choose a model, import it and instantiate an object\n",
    "def train_withReturn(clf, X_train, y_train):\n",
    "    start = time.time()\n",
    "    clf.fit(X_train, y_train)\n",
    "    end = time.time()\n",
    "    return end - start\n",
    "\n",
    "from sklearn.tree import DecisionTreeClassifier\n",
    "clf = DecisionTreeClassifier(random_state=5)\n",
    "\n",
    "# Fit model to training data\n",
    "train_classifier(clf, X_train, y_train)  # note: using entire training set here\n",
    "print clf  # you can inspect the learned model by printing it"
   ]
  },
  {
   "cell_type": "code",
   "execution_count": 15,
   "metadata": {
    "collapsed": false
   },
   "outputs": [
    {
     "name": "stdout",
     "output_type": "stream",
     "text": [
      "Predicting labels using DecisionTreeClassifier...\n",
      "Done!\n",
      "Prediction time (secs): 0.008\n",
      "F1 score for training set: 1.0\n"
     ]
    }
   ],
   "source": [
    "# Predict on training set and compute F1 score\n",
    "from sklearn.metrics import f1_score\n",
    "\n",
    "def predict_labels(clf, features, target):\n",
    "    print \"Predicting labels using {}...\".format(clf.__class__.__name__)\n",
    "    start = time.time()\n",
    "    y_pred = clf.predict(features)\n",
    "    end = time.time()\n",
    "    print \"Done!\\nPrediction time (secs): {:.3f}\".format(end - start)\n",
    "    return f1_score(target.values, y_pred, pos_label='yes')\n",
    "\n",
    "def predict_withtime(clf, features, target):\n",
    "    start = time.time()\n",
    "    y_pred = clf.predict(features)\n",
    "    end = time.time()\n",
    "    print \"Done!\\nPrediction time (secs): {:.3f}\".format(end - start)\n",
    "    return f1_score(target.values, y_pred, pos_label='yes') , float(end - start)\n",
    "\n",
    "train_f1_score = predict_labels(clf, X_train, y_train)\n",
    "print \"F1 score for training set: {}\".format(train_f1_score)"
   ]
  },
  {
   "cell_type": "code",
   "execution_count": 16,
   "metadata": {
    "collapsed": false
   },
   "outputs": [
    {
     "name": "stdout",
     "output_type": "stream",
     "text": [
      "Predicting labels using DecisionTreeClassifier...\n",
      "Done!\n",
      "Prediction time (secs): 0.001\n",
      "F1 score for test set: 0.645161290323\n"
     ]
    }
   ],
   "source": [
    "# Predict on test data\n",
    "print \"F1 score for test set: {}\".format(predict_labels(clf, X_test, y_test))"
   ]
  },
  {
   "cell_type": "code",
   "execution_count": 17,
   "metadata": {
    "collapsed": false
   },
   "outputs": [
    {
     "name": "stdout",
     "output_type": "stream",
     "text": [
      "------------------------------------------\n",
      "Training set size return: 100\n",
      "Done!\n",
      "Prediction time (secs): 0.000\n",
      "Done!\n",
      "Prediction time (secs): 0.000\n",
      "F1 score for training set return: 1.0\n",
      "F1 score for test set return: 0.615384615385\n",
      "------------------------------------------\n",
      "Training set size return: 200\n",
      "Done!\n",
      "Prediction time (secs): 0.000\n",
      "Done!\n",
      "Prediction time (secs): 0.000\n",
      "F1 score for training set return: 1.0\n",
      "F1 score for test set return: 0.742424242424\n",
      "------------------------------------------\n",
      "Training set size return: 300\n",
      "Done!\n",
      "Prediction time (secs): 0.000\n",
      "Done!\n",
      "Prediction time (secs): 0.000\n",
      "F1 score for training set return: 1.0\n",
      "F1 score for test set return: 0.645161290323\n"
     ]
    }
   ],
   "source": [
    "# Train and predict using different training set sizes\n",
    "def train_predict(clf, X_train, y_train, X_test, y_test):\n",
    "    print \"------------------------------------------\"\n",
    "    print \"Training set size: {}\".format(len(X_train))\n",
    "    train_classifier(clf, X_train, y_train)\n",
    "    print \"F1 score for training set: {}\".format(predict_labels(clf, X_train, y_train))\n",
    "    print \"F1 score for test set: {}\".format(predict_labels(clf, X_test, y_test))\n",
    "    \n",
    "def train_predict_return(clf, X_train, y_train, X_test, y_test):\n",
    "    print \"------------------------------------------\"\n",
    "    print \"Training set size return: {}\".format(len(X_train))\n",
    "    time_train = train_withReturn(clf, X_train, y_train)\n",
    "    f1_train, time_predict_train = predict_withtime(clf, X_train, y_train)\n",
    "    f1_test, time_predict_test = predict_withtime(clf, X_test, y_test)\n",
    "    print \"F1 score for training set return: {}\".format(f1_train)\n",
    "    print \"F1 score for test set return: {}\".format(f1_test)\n",
    "    return  time_train,time_predict_train,time_predict_test,f1_train,f1_test\n",
    "\n",
    "    \n",
    "\n",
    "# TODO: Run the helper function above for desired subsets of training data\n",
    "# Note: Keep the test set constant\n",
    "time_train = list() \n",
    "time_predict_train = list()\n",
    "time_predict_test = list()\n",
    "f1_train = list()\n",
    "f1_test = list()\n",
    "for x in (100,200,300):\n",
    "    t1,t2,t3,t4,t5 =  train_predict_return(clf,X_train[:x], y_train[:x], X_test, y_test)\n",
    "    time_train.append(t1)\n",
    "    time_predict_train.append(t2)\n",
    "    time_predict_test.append(t3)\n",
    "    f1_train.append(t4)\n",
    "    f1_test.append(t5)"
   ]
  },
  {
   "cell_type": "code",
   "execution_count": 18,
   "metadata": {
    "collapsed": false,
    "scrolled": false
   },
   "outputs": [
    {
     "name": "stdout",
     "output_type": "stream",
     "text": [
      "==============================\n",
      "==============================\n",
      "==============================\n",
      "=========Naive Bayes==========\n",
      "Training GaussianNB...\n",
      "Done!\n",
      "Training time (secs): 0.003\n",
      "GaussianNB()\n",
      "Predicting labels using GaussianNB...\n",
      "Done!\n",
      "Prediction time (secs): 0.002\n",
      "F1 score for training set: 0.80378250591\n",
      "Predicting labels using GaussianNB...\n",
      "Done!\n",
      "Prediction time (secs): 0.000\n",
      "F1 score for test set: 0.763358778626\n",
      "------------------------------------------\n",
      "Training set size return: 100\n",
      "Done!\n",
      "Prediction time (secs): 0.001\n",
      "Done!\n",
      "Prediction time (secs): 0.001\n",
      "F1 score for training set return: 0.846715328467\n",
      "F1 score for test set return: 0.802919708029\n",
      "------------------------------------------\n",
      "Training set size return: 200\n",
      "Done!\n",
      "Prediction time (secs): 0.000\n",
      "Done!\n",
      "Prediction time (secs): 0.000\n",
      "F1 score for training set return: 0.840579710145\n",
      "F1 score for test set return: 0.724409448819\n",
      "------------------------------------------\n",
      "Training set size return: 300\n",
      "Done!\n",
      "Prediction time (secs): 0.000\n",
      "Done!\n",
      "Prediction time (secs): 0.000\n",
      "F1 score for training set return: 0.80378250591\n",
      "F1 score for test set return: 0.763358778626\n",
      "==============================\n",
      "==============================\n",
      "==============================\n",
      "====Support Vector Machine====\n",
      "Training SVC...\n",
      "Done!\n",
      "Training time (secs): 0.011\n",
      "SVC(C=1.0, cache_size=200, class_weight=None, coef0=0.0,\n",
      "  decision_function_shape=None, degree=3, gamma='auto', kernel='rbf',\n",
      "  max_iter=-1, probability=False, random_state=None, shrinking=True,\n",
      "  tol=0.001, verbose=False)\n",
      "Predicting labels using SVC...\n",
      "Done!\n",
      "Prediction time (secs): 0.005\n",
      "F1 score for training set: 0.876068376068\n",
      "Predicting labels using DecisionTreeClassifier...\n",
      "Done!\n",
      "Prediction time (secs): 0.000\n",
      "F1 score for test set: 0.645161290323\n",
      "------------------------------------------\n",
      "Training set size return: 100\n",
      "Done!\n",
      "Prediction time (secs): 0.001\n",
      "Done!\n",
      "Prediction time (secs): 0.001\n",
      "F1 score for training set return: 0.877697841727\n",
      "F1 score for test set return: 0.774647887324\n",
      "------------------------------------------\n",
      "Training set size return: 200\n",
      "Done!\n",
      "Prediction time (secs): 0.002\n",
      "Done!\n",
      "Prediction time (secs): 0.001\n",
      "F1 score for training set return: 0.867924528302\n",
      "F1 score for test set return: 0.781456953642\n",
      "------------------------------------------\n",
      "Training set size return: 300\n",
      "Done!\n",
      "Prediction time (secs): 0.007\n",
      "Done!\n",
      "Prediction time (secs): 0.002\n",
      "F1 score for training set return: 0.876068376068\n",
      "F1 score for test set return: 0.783783783784\n",
      "Table Comparison\n",
      "Comparison for Decision Tree\n",
      "No.    Training time    Prediction time(train)    Prediction time(test)    F1 Score(training)    F1 Score(testing)\n",
      "100      0.00177            0.00033                    0.00018                 1.00000               0.61538\n",
      "200      0.00134            0.00020                    0.00016                 1.00000               0.74242\n",
      "300      0.00183            0.00022                    0.00018                 1.00000               0.64516\n",
      "====================================\n",
      "Comparison for Naive Bayes\n",
      "No.    Training time    Prediction time(train)    Prediction time(test)    F1 Score(training)    F1 Score(testing)\n",
      "100      0.00135            0.00063                    0.00081                 0.84672               0.80292\n",
      "200      0.00159            0.00042                    0.00026                 0.84058               0.72441\n",
      "300      0.00078            0.00037                    0.00025                 0.80378               0.76336\n",
      "====================================\n",
      "Comparison for SVM\n",
      "No.    Training time    Prediction time(train)    Prediction time(test)    F1 Score(training)    F1 Score(testing)\n",
      "100      0.00115            0.00074                    0.00086                 0.87770               0.77465\n",
      "200      0.00314            0.00218                    0.00112                 0.86792               0.78146\n",
      "300      0.00776            0.00733                    0.00172                 0.87607               0.78378\n"
     ]
    }
   ],
   "source": [
    "# TODO: Train and predict using two other models\n",
    "#Naive Bayes\n",
    "print (\"==============================\")\n",
    "print (\"==============================\")\n",
    "print (\"==============================\")\n",
    "print (\"=========Naive Bayes==========\")\n",
    "from sklearn.naive_bayes import GaussianNB\n",
    "gnb = GaussianNB()\n",
    "train_classifier(gnb, X_train, y_train)  \n",
    "print gnb  \n",
    "\n",
    "train_f1_score = predict_labels(gnb, X_train, y_train)\n",
    "print \"F1 score for training set: {}\".format(train_f1_score)\n",
    "print \"F1 score for test set: {}\".format(predict_labels(gnb, X_test, y_test))\n",
    "\n",
    "time_train2 = list() \n",
    "time_predict_train2 = list()\n",
    "time_predict_test2 = list()\n",
    "f1_train2 = list()\n",
    "f1_test2 = list()\n",
    "for x in (100,200,300):\n",
    "    t1,t2,t3,t4,t5 =  train_predict_return(gnb,X_train[:x], y_train[:x], X_test, y_test)\n",
    "    time_train2.append(t1)\n",
    "    time_predict_train2.append(t2)\n",
    "    time_predict_test2.append(t3)\n",
    "    f1_train2.append(t4)\n",
    "    f1_test2.append(t5)\n",
    "    \n",
    "print (\"==============================\")\n",
    "print (\"==============================\")\n",
    "print (\"==============================\")\n",
    "print (\"====Support Vector Machine====\")\n",
    "\n",
    "#SVM\n",
    "from sklearn import svm\n",
    "svc = svm.SVC()\n",
    "train_classifier(svc, X_train, y_train)  \n",
    "print svc  \n",
    "\n",
    "train_f1_score = predict_labels(svc, X_train, y_train)\n",
    "print \"F1 score for training set: {}\".format(train_f1_score)\n",
    "print \"F1 score for test set: {}\".format(predict_labels(clf, X_test, y_test))\n",
    "\n",
    "time_train3 = list() \n",
    "time_predict_train3 = list()\n",
    "time_predict_test3 = list()\n",
    "f1_train3 = list()\n",
    "f1_test3 = list()\n",
    "for x in (100,200,300):\n",
    "    t1,t2,t3,t4,t5 =  train_predict_return(svc,X_train[:x], y_train[:x], X_test, y_test)\n",
    "    time_train3.append(t1)\n",
    "    time_predict_train3.append(t2)\n",
    "    time_predict_test3.append(t3)\n",
    "    f1_train3.append(t4)\n",
    "    f1_test3.append(t5)\n",
    "    \n",
    "print(\"Table Comparison\")\n",
    "print(\"Comparison for Decision Tree\")\n",
    "print(\"No.    Training time    Prediction time(train)    Prediction time(test)    F1 Score(training)    F1 Score(testing)\")\n",
    "print(\"100      %.5f            %.5f                    %.5f                 %.5f               %.5f\" %(time_train[0],time_predict_train[0],time_predict_test[0],f1_train[0],f1_test[0]))\n",
    "print(\"200      %.5f            %.5f                    %.5f                 %.5f               %.5f\" %(time_train[1],time_predict_train[1],time_predict_test[1],f1_train[1],f1_test[1]))\n",
    "print(\"300      %.5f            %.5f                    %.5f                 %.5f               %.5f\" %(time_train[2],time_predict_train[2],time_predict_test[2],f1_train[2],f1_test[2]))\n",
    "print(\"====================================\")\n",
    "print(\"Comparison for Naive Bayes\")\n",
    "print(\"No.    Training time    Prediction time(train)    Prediction time(test)    F1 Score(training)    F1 Score(testing)\")\n",
    "print(\"100      %.5f            %.5f                    %.5f                 %.5f               %.5f\" %(time_train2[0],time_predict_train2[0],time_predict_test2[0],f1_train2[0],f1_test2[0]))\n",
    "print(\"200      %.5f            %.5f                    %.5f                 %.5f               %.5f\" %(time_train2[1],time_predict_train2[1],time_predict_test2[1],f1_train2[1],f1_test2[1]))\n",
    "print(\"300      %.5f            %.5f                    %.5f                 %.5f               %.5f\" %(time_train2[2],time_predict_train2[2],time_predict_test2[2],f1_train2[2],f1_test2[2]))\n",
    "print(\"====================================\")\n",
    "print(\"Comparison for SVM\")\n",
    "print(\"No.    Training time    Prediction time(train)    Prediction time(test)    F1 Score(training)    F1 Score(testing)\")\n",
    "print(\"100      %.5f            %.5f                    %.5f                 %.5f               %.5f\" %(time_train3[0],time_predict_train3[0],time_predict_test3[0],f1_train3[0],f1_test3[0]))\n",
    "print(\"200      %.5f            %.5f                    %.5f                 %.5f               %.5f\" %(time_train3[1],time_predict_train3[1],time_predict_test3[1],f1_train3[1],f1_test3[1]))\n",
    "print(\"300      %.5f            %.5f                    %.5f                 %.5f               %.5f\" %(time_train3[2],time_predict_train3[2],time_predict_test3[2],f1_train3[2],f1_test3[2]))\n",
    "#training time, prediction time, F1 score on training set and F1 score on test set, for each training set size.\n",
    "#import pandas\n",
    "#pandas.DataFrame(train_f1_score, train_f1_score, train_f1_score)\n",
    "\n"
   ]
  },
  {
   "cell_type": "markdown",
   "metadata": {},
   "source": [
    "## 5. Choosing the Best Model\n",
    "\n",
    "- Based on the experiments you performed earlier, in 1-2 paragraphs explain to the board of supervisors what single model you chose as the best model. Which model is generally the most appropriate based on the available data, limited resources, cost, and performance?\n",
    "###### It's seem that from the table above, Decision tree is the fastest in term of training and testing but F1 score is the lowest. I can conculde that Decision tree has high variance because while it's make perfect score in training but the f1 score in testing in the lowest. As lecturer's explained that Decision tree is not suitable for complex data.\n",
    "###### Naive Bayes is the second in terms of fastest in traning and testing while f1 score for testing has done a similar result when compare to SVC. SVC is the best in prediction accuracy but it's take longest time to train. I will pick Naive Bayes for the most appropriate model if we're consider about limited resource, cost compare to f1 score.\n",
    "- In 1-2 paragraphs explain to the board of supervisors in layman's terms how the final model chosen is supposed to work (for example if you chose a Decision Tree or Support Vector Machine, how does it make a prediction).\n",
    "###### To explained in layman's terms with 1-2 paragraphs will be, We are using Naive Bayes method to be our appropriate model. How Naive Bayes work?  We've devided into 2 parts Naive rules and Bayes rules. If you have 10 candies in total, 8 of that candies come from box A, 2 come from box B. If you random pick 1 out of 10, we can guess that a candy that you pick is come from Box A because it has higher probability. This is called Naive rules because we pick it naively. For Bayes rules, if you are interesting in study crime rate, and you could see the data that there is a connection or related to education of people around there, economic, and how crowded. which you can use Bayes Theorem for getting probability of those informations.\n",
    "###### So Naive Bayes are looking into features or the data that you provided and calculate the relation between those featuers to get probability. They will use \"Naive\" to guess that if student is far from school they will have higher probability to failed at school and after that algorithm will use \"Bayes\" to see the connection of other featuers to calculate other \"Naive\" to get the final probability of the process.\n",
    "- Fine-tune the model. Use Gridsearch with at least one important parameter tuned and with at least 3 settings. Use the entire training set for this.\n",
    "###### Naive Bayes doesn't need Fine-tune because they are't any parameters for Naive Bayes but I show how Fine-tune is working below by using Support Vector Machine\n",
    "- What is the model's final F<sub>1</sub> score?\n",
    "###### F1 score is 0.794520547945 which I could improved from 0.78378 and the speed from 0.00721 go down to 0.00665402412415\n",
    "\n",
    "\n",
    "\n",
    "\n"
   ]
  },
  {
   "cell_type": "code",
   "execution_count": 19,
   "metadata": {
    "collapsed": false
   },
   "outputs": [
    {
     "name": "stdout",
     "output_type": "stream",
     "text": [
      "best choice : {'kernel': 'poly', 'C': 1.0, 'degree': 1}\n"
     ]
    }
   ],
   "source": [
    "# TODO: Fine-tune your model and report the best F1 score\n",
    "#due to GaussianNB are not accept any paramater so I use SVM instead to see how much it could improve\n",
    "from sklearn.grid_search import GridSearchCV\n",
    "from sklearn.cross_validation import KFold\n",
    "from sklearn.naive_bayes import GaussianNB\n",
    "from sklearn.tree import DecisionTreeClassifier\n",
    "from sklearn.metrics import make_scorer\n",
    "from sklearn import svm\n",
    "\n",
    "def fine_tune(classifier, params, X_train, y_train):\n",
    "    kfcv = KFold(n=len(y_train), n_folds=10, shuffle=True)\n",
    "    grid = GridSearchCV(classifier, params, cv=kfcv, scoring='f1')\n",
    "    grid.fit(X_train, y_train)   \n",
    "    return grid.best_estimator_, grid.best_params_\n",
    "\n",
    "y_new_all = y_all.replace(['yes', 'no'], [1, 0]) # grid search is error because can't accept string\n",
    "X_train, X_test, y_train, y_test = train_test_split(X_all, y_new_all, test_size=num_test, random_state=42)\n",
    "params = {'degree':(1,2,3), 'kernel':('linear','poly','rbf', 'sigmoid'), 'C':(1.0,3.0,5.0,10.0) }\n",
    "svc = svm.SVC()\n",
    "#NB = GaussianNB()\n",
    "#cfs = DecisionTreeClassifier()\n",
    "model, best_value = fine_tune(svc, params, X_train, y_train)\n",
    "\n",
    "print \"best choice : {}\".format(best_value)"
   ]
  },
  {
   "cell_type": "code",
   "execution_count": 20,
   "metadata": {
    "collapsed": false
   },
   "outputs": [
    {
     "name": "stdout",
     "output_type": "stream",
     "text": [
      "Number of Training :  300\n",
      "Time : 0.00693011283875\n",
      "F1 score : 0.794520547945\n"
     ]
    }
   ],
   "source": [
    "start = time.time()\n",
    "model.fit(X_train, y_train)\n",
    "end = time.time()\n",
    "f1 = f1_score(model.predict(X_test), y_test)\n",
    "print \"Number of Training : \", len(X_train)\n",
    "print \"Time : {}\" .format(end - start)\n",
    "print \"F1 score : {}\".format(f1)"
   ]
  },
  {
   "cell_type": "code",
   "execution_count": null,
   "metadata": {
    "collapsed": true
   },
   "outputs": [],
   "source": []
  },
  {
   "cell_type": "code",
   "execution_count": null,
   "metadata": {
    "collapsed": true
   },
   "outputs": [],
   "source": []
  }
 ],
 "metadata": {
  "kernelspec": {
   "display_name": "Python 2",
   "language": "python",
   "name": "python2"
  },
  "language_info": {
   "codemirror_mode": {
    "name": "ipython",
    "version": 2
   },
   "file_extension": ".py",
   "mimetype": "text/x-python",
   "name": "python",
   "nbconvert_exporter": "python",
   "pygments_lexer": "ipython2",
   "version": "2.7.11"
  }
 },
 "nbformat": 4,
 "nbformat_minor": 0
}
